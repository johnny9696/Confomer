{
 "cells": [
  {
   "cell_type": "code",
   "execution_count": 1,
   "id": "09d474d7",
   "metadata": {},
   "outputs": [],
   "source": [
    "import torch\n",
    "from Conformer import Conformer as C_model"
   ]
  },
  {
   "cell_type": "code",
   "execution_count": 2,
   "id": "c4b2c38e",
   "metadata": {},
   "outputs": [
    {
     "name": "stdout",
     "output_type": "stream",
     "text": [
      "tensor([[[0.5170, 0.5532, 0.0351,  ..., 0.3103, 0.3225, 0.8249],\n",
      "         [0.7093, 0.1485, 0.2587,  ..., 0.3455, 0.1494, 0.3643],\n",
      "         [0.0867, 0.3611, 0.4210,  ..., 0.8834, 0.3844, 0.9063],\n",
      "         ...,\n",
      "         [0.1835, 0.2134, 0.3121,  ..., 0.0904, 0.5453, 0.6128],\n",
      "         [0.1470, 0.1327, 0.4758,  ..., 0.4497, 0.2302, 0.8935],\n",
      "         [0.2475, 0.6884, 0.5789,  ..., 0.8901, 0.6688, 0.5436]]])\n"
     ]
    }
   ],
   "source": [
    "sample_data = torch.rand(1,80,900)\n",
    "print(sample_data)"
   ]
  },
  {
   "cell_type": "code",
   "execution_count": 3,
   "id": "7569283d",
   "metadata": {},
   "outputs": [
    {
     "name": "stderr",
     "output_type": "stream",
     "text": [
      "/home/caijb/Desktop/lang_recog/attention.py:48: UserWarning: nn.init.xavier_uniform is now deprecated in favor of nn.init.xavier_uniform_.\n",
      "  torch.nn.init.xavier_uniform(self.u_bias)\n",
      "/home/caijb/Desktop/lang_recog/attention.py:49: UserWarning: nn.init.xavier_uniform is now deprecated in favor of nn.init.xavier_uniform_.\n",
      "  torch.nn.init.xavier_uniform(self.v_bias)\n"
     ]
    }
   ],
   "source": [
    "model=C_model(n_mels=80,n_class=10,encoder_dim=512,expantion_factor=2,\n",
    "              kernel_size=3,num_attention_head=16)"
   ]
  },
  {
   "cell_type": "code",
   "execution_count": 4,
   "id": "2de9cd18",
   "metadata": {
    "scrolled": true
   },
   "outputs": [
    {
     "data": {
      "text/plain": [
       "tensor([[[-1.6446, -2.3071, -2.8556,  ..., -1.9061, -2.5557, -1.9291],\n",
       "         [-2.4366, -2.4251, -2.5823,  ..., -3.6913, -1.7139, -1.4786],\n",
       "         [-1.9118, -1.4925, -2.1152,  ..., -1.6317, -3.0280, -2.2163],\n",
       "         ...,\n",
       "         [-2.0128, -2.2417, -2.1942,  ..., -2.4524, -2.1432, -1.7569],\n",
       "         [-2.2021, -1.8427, -2.4287,  ..., -1.8866, -3.2530, -2.2770],\n",
       "         [-1.9747, -1.5919, -2.3280,  ..., -1.9085, -3.3840, -3.0798]]],\n",
       "       grad_fn=<LogSoftmaxBackward0>)"
      ]
     },
     "execution_count": 4,
     "metadata": {},
     "output_type": "execute_result"
    }
   ],
   "source": [
    "model.forward(sample_data)"
   ]
  },
  {
   "cell_type": "code",
   "execution_count": 5,
   "id": "796104fb",
   "metadata": {},
   "outputs": [],
   "source": [
    "a, b, c =sample_data.size()"
   ]
  },
  {
   "cell_type": "code",
   "execution_count": 6,
   "id": "768c5d60",
   "metadata": {},
   "outputs": [
    {
     "data": {
      "text/plain": [
       "torch.Size([1, 80, 1, 900])"
      ]
     },
     "execution_count": 6,
     "metadata": {},
     "output_type": "execute_result"
    }
   ],
   "source": [
    "sample_data.view(a,-1,b,c).permute(0,2,1,3).size()"
   ]
  },
  {
   "cell_type": "code",
   "execution_count": null,
   "id": "803a27f6",
   "metadata": {},
   "outputs": [],
   "source": []
  }
 ],
 "metadata": {
  "kernelspec": {
   "display_name": "Python 3 (ipykernel)",
   "language": "python",
   "name": "python3"
  },
  "language_info": {
   "codemirror_mode": {
    "name": "ipython",
    "version": 3
   },
   "file_extension": ".py",
   "mimetype": "text/x-python",
   "name": "python",
   "nbconvert_exporter": "python",
   "pygments_lexer": "ipython3",
   "version": "3.7.13"
  }
 },
 "nbformat": 4,
 "nbformat_minor": 5
}
