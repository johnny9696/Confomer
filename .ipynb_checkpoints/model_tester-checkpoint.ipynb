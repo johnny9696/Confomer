{
 "cells": [
  {
   "cell_type": "code",
   "execution_count": 1,
   "id": "ac7e4915",
   "metadata": {},
   "outputs": [],
   "source": [
    "import torch\n",
    "from Conformer import Conformer as C_model"
   ]
  },
  {
   "cell_type": "code",
   "execution_count": 2,
   "id": "8b76dfd6",
   "metadata": {},
   "outputs": [
    {
     "name": "stdout",
     "output_type": "stream",
     "text": [
      "tensor([[[0.7157, 0.2457, 0.9867,  ..., 0.9803, 0.3466, 0.0485],\n",
      "         [0.4370, 0.2014, 0.7276,  ..., 0.2370, 0.1220, 0.3925],\n",
      "         [0.2774, 0.4473, 0.4372,  ..., 0.6829, 0.1340, 0.2256],\n",
      "         ...,\n",
      "         [0.1054, 0.9220, 0.3376,  ..., 0.1969, 0.0790, 0.3110],\n",
      "         [0.8236, 0.7560, 0.5515,  ..., 0.9257, 0.0341, 0.0257],\n",
      "         [0.7632, 0.7866, 0.3099,  ..., 0.5906, 0.4177, 0.1205]]])\n"
     ]
    }
   ],
   "source": [
    "sample_data = torch.rand(1,80,900)\n",
    "print(sample_data)"
   ]
  },
  {
   "cell_type": "code",
   "execution_count": 3,
   "id": "fa028da9",
   "metadata": {},
   "outputs": [
    {
     "name": "stderr",
     "output_type": "stream",
     "text": [
      "/home/caijb/Desktop/lang_recog/attention.py:48: UserWarning: nn.init.xavier_uniform is now deprecated in favor of nn.init.xavier_uniform_.\n",
      "  torch.nn.init.xavier_uniform(self.u_bias)\n",
      "/home/caijb/Desktop/lang_recog/attention.py:49: UserWarning: nn.init.xavier_uniform is now deprecated in favor of nn.init.xavier_uniform_.\n",
      "  torch.nn.init.xavier_uniform(self.v_bias)\n"
     ]
    }
   ],
   "source": [
    "model=C_model(n_mels=80,n_class=10,encoder_dim=512,expantion_factor=3,\n",
    "              kernel_size=3,num_attention_head=16)"
   ]
  },
  {
   "cell_type": "code",
   "execution_count": 4,
   "id": "323e9b94",
   "metadata": {
    "scrolled": true
   },
   "outputs": [
    {
     "name": "stdout",
     "output_type": "stream",
     "text": [
      "torch.Size([1, 512, 224])\n",
      "torch.Size([1, 512, 224])\n",
      "torch.Size([1, 512, 224])\n",
      "torch.Size([1, 224, 512]) torch.Size([1, 224, 512])\n",
      "torch.Size([1, 512, 224])\n",
      "torch.Size([1, 512, 224])\n",
      "torch.Size([1, 512, 224])\n",
      "torch.Size([1, 224, 512]) torch.Size([1, 224, 512])\n",
      "torch.Size([1, 512, 224])\n",
      "torch.Size([1, 512, 224])\n",
      "torch.Size([1, 512, 224])\n",
      "torch.Size([1, 224, 512]) torch.Size([1, 224, 512])\n",
      "torch.Size([1, 512, 224])\n",
      "torch.Size([1, 512, 224])\n",
      "torch.Size([1, 512, 224])\n",
      "torch.Size([1, 224, 512]) torch.Size([1, 224, 512])\n",
      "torch.Size([1, 512, 224])\n",
      "torch.Size([1, 512, 224])\n",
      "torch.Size([1, 512, 224])\n",
      "torch.Size([1, 224, 512]) torch.Size([1, 224, 512])\n",
      "torch.Size([1, 512, 224])\n",
      "torch.Size([1, 512, 224])\n",
      "torch.Size([1, 512, 224])\n",
      "torch.Size([1, 224, 512]) torch.Size([1, 224, 512])\n"
     ]
    },
    {
     "data": {
      "text/plain": [
       "tensor([[[-3.1415, -1.3702, -1.8134,  ..., -2.5048, -2.5566, -2.2699],\n",
       "         [-2.4732, -1.7040, -2.2408,  ..., -2.6178, -1.9853, -1.9479],\n",
       "         [-2.6134, -2.1455, -2.8045,  ..., -2.4295, -2.3655, -1.6223],\n",
       "         ...,\n",
       "         [-2.8189, -1.4343, -2.6623,  ..., -3.6021, -3.0265, -1.2819],\n",
       "         [-2.4220, -2.1929, -3.1599,  ..., -2.6789, -3.3584, -1.1835],\n",
       "         [-2.7662, -2.4969, -2.6477,  ..., -3.0677, -1.6149, -1.5553]]],\n",
       "       grad_fn=<LogSoftmaxBackward0>)"
      ]
     },
     "execution_count": 4,
     "metadata": {},
     "output_type": "execute_result"
    }
   ],
   "source": [
    "model.forward(sample_data)"
   ]
  },
  {
   "cell_type": "code",
   "execution_count": 5,
   "id": "e8150786",
   "metadata": {},
   "outputs": [],
   "source": [
    "a, b, c =sample_data.size()"
   ]
  },
  {
   "cell_type": "code",
   "execution_count": 6,
   "id": "2a895735",
   "metadata": {},
   "outputs": [
    {
     "data": {
      "text/plain": [
       "torch.Size([1, 80, 1, 900])"
      ]
     },
     "execution_count": 6,
     "metadata": {},
     "output_type": "execute_result"
    }
   ],
   "source": [
    "sample_data.view(a,-1,b,c).permute(0,2,1,3).size()"
   ]
  },
  {
   "cell_type": "code",
   "execution_count": null,
   "id": "d2e82af8",
   "metadata": {},
   "outputs": [],
   "source": []
  }
 ],
 "metadata": {
  "kernelspec": {
   "display_name": "Python 3 (ipykernel)",
   "language": "python",
   "name": "python3"
  },
  "language_info": {
   "codemirror_mode": {
    "name": "ipython",
    "version": 3
   },
   "file_extension": ".py",
   "mimetype": "text/x-python",
   "name": "python",
   "nbconvert_exporter": "python",
   "pygments_lexer": "ipython3",
   "version": "3.7.13"
  }
 },
 "nbformat": 4,
 "nbformat_minor": 5
}
