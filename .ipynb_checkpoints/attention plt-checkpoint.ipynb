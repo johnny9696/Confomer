{
 "cells": [
  {
   "cell_type": "code",
   "execution_count": 1,
   "id": "2b2cc637",
   "metadata": {},
   "outputs": [],
   "source": [
    "import numpy as np\n",
    "from matplotlib import pyplot as plt\n",
    "\n",
    "atten=np.random.randn(15,12)\n",
    "x=['a','b','c','a','b','c','a','b','c','a','b','c']\n",
    "y=['a','b','c','a','b','c','a','b','c','a','b','c','a','b','c']"
   ]
  },
  {
   "cell_type": "code",
   "execution_count": 2,
   "id": "40ea0bed",
   "metadata": {},
   "outputs": [
    {
     "data": {
      "text/plain": [
       "([<matplotlib.axis.YTick at 0x7f630f45c810>,\n",
       "  <matplotlib.axis.YTick at 0x7f630f4ae710>,\n",
       "  <matplotlib.axis.YTick at 0x7f631137f490>,\n",
       "  <matplotlib.axis.YTick at 0x7f630d158c10>,\n",
       "  <matplotlib.axis.YTick at 0x7f630d1621d0>,\n",
       "  <matplotlib.axis.YTick at 0x7f630d162350>,\n",
       "  <matplotlib.axis.YTick at 0x7f630d16a050>,\n",
       "  <matplotlib.axis.YTick at 0x7f630d16a1d0>,\n",
       "  <matplotlib.axis.YTick at 0x7f630d1710d0>,\n",
       "  <matplotlib.axis.YTick at 0x7f630d162ed0>,\n",
       "  <matplotlib.axis.YTick at 0x7f630d158ad0>,\n",
       "  <matplotlib.axis.YTick at 0x7f630d1712d0>,\n",
       "  <matplotlib.axis.YTick at 0x7f630d171450>,\n",
       "  <matplotlib.axis.YTick at 0x7f630d17c110>,\n",
       "  <matplotlib.axis.YTick at 0x7f630d17c290>],\n",
       " [Text(0, 0, 'a'),\n",
       "  Text(0, 1, 'b'),\n",
       "  Text(0, 2, 'c'),\n",
       "  Text(0, 3, 'a'),\n",
       "  Text(0, 4, 'b'),\n",
       "  Text(0, 5, 'c'),\n",
       "  Text(0, 6, 'a'),\n",
       "  Text(0, 7, 'b'),\n",
       "  Text(0, 8, 'c'),\n",
       "  Text(0, 9, 'a'),\n",
       "  Text(0, 10, 'b'),\n",
       "  Text(0, 11, 'c'),\n",
       "  Text(0, 12, 'a'),\n",
       "  Text(0, 13, 'b'),\n",
       "  Text(0, 14, 'c')])"
      ]
     },
     "execution_count": 2,
     "metadata": {},
     "output_type": "execute_result"
    },
    {
     "data": {
      "image/png": "[encoded data removed]",
      "text/plain": [
       "<Figure size 288x360 with 1 Axes>"
      ]
     },
     "metadata": {
      "needs_background": "light"
     },
     "output_type": "display_data"
    }
   ],
   "source": [
    "def plot_atten_to_numpy(label, target, atten):\n",
    "    fig, ax = plt.subplots(figsize=(6, 4))\n",
    "    im = ax.imshow(atten, aspect='auto', origin='lower',\n",
    "                  interpolation='none')\n",
    "    fig.colorbar(im, ax=ax)\n",
    "    xlabel = 'Decoder timestep'\n",
    "    plt.xlabel(xlabel)\n",
    "    plt.ylabel('Encoder timestep')\n",
    "    plt.tight_layout()\n",
    "\n",
    "    fig.canvas.draw()\n",
    "    data = np.fromstring(fig.canvas.tostring_rgb(), dtype=np.uint8, sep='')\n",
    "    data = data.reshape(fig.canvas.get_width_height()[::-1] + (3,))\n",
    "    #plt.close()\n",
    "    return data"
   ]
  },
  {
   "cell_type": "code",
   "execution_count": 3,
   "id": "5d8f300d",
   "metadata": {},
   "outputs": [
    {
     "name": "stdout",
     "output_type": "stream",
     "text": [
      "[[[255 255 255]\n",
      "  [255 255 255]\n",
      "  [255 255 255]\n",
      "  ...\n",
      "  [255 255 255]\n",
      "  [255 255 255]\n",
      "  [255 255 255]]\n",
      "\n",
      " [[255 255 255]\n",
      "  [255 255 255]\n",
      "  [255 255 255]\n",
      "  ...\n",
      "  [255 255 255]\n",
      "  [255 255 255]\n",
      "  [255 255 255]]\n",
      "\n",
      " [[255 255 255]\n",
      "  [255 255 255]\n",
      "  [255 255 255]\n",
      "  ...\n",
      "  [255 255 255]\n",
      "  [255 255 255]\n",
      "  [255 255 255]]\n",
      "\n",
      " ...\n",
      "\n",
      " [[255 255 255]\n",
      "  [255 255 255]\n",
      "  [255 255 255]\n",
      "  ...\n",
      "  [255 255 255]\n",
      "  [255 255 255]\n",
      "  [255 255 255]]\n",
      "\n",
      " [[255 255 255]\n",
      "  [255 255 255]\n",
      "  [255 255 255]\n",
      "  ...\n",
      "  [255 255 255]\n",
      "  [255 255 255]\n",
      "  [255 255 255]]\n",
      "\n",
      " [[255 255 255]\n",
      "  [255 255 255]\n",
      "  [255 255 255]\n",
      "  ...\n",
      "  [255 255 255]\n",
      "  [255 255 255]\n",
      "  [255 255 255]]]\n"
     ]
    },
    {
     "data": {
      "image/png": "[encoded data removed]",
      "text/plain": [
       "<Figure size 432x288 with 2 Axes>"
      ]
     },
     "metadata": {
      "needs_background": "light"
     },
     "output_type": "display_data"
    }
   ],
   "source": []
  },
  {
   "cell_type": "code",
   "execution_count": null,
   "id": "c554c164",
   "metadata": {},
   "outputs": [],
   "source": []
  }
 ],
 "metadata": {
  "kernelspec": {
   "display_name": "Python 3 (ipykernel)",
   "language": "python",
   "name": "python3"
  },
  "language_info": {
   "codemirror_mode": {
    "name": "ipython",
    "version": 3
   },
   "file_extension": ".py",
   "mimetype": "text/x-python",
   "name": "python",
   "nbconvert_exporter": "python",
   "pygments_lexer": "ipython3",
   "version": "3.7.13"
  }
 },
 "nbformat": 4,
 "nbformat_minor": 5
}
